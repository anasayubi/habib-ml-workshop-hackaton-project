{
 "cells": [
  {
   "cell_type": "markdown",
   "metadata": {},
   "source": [
    "## Trying out candle stick visualisation with dummy data"
   ]
  },
  {
   "cell_type": "code",
   "execution_count": 50,
   "metadata": {},
   "outputs": [
    {
     "data": {
      "text/html": [
       "<script>requirejs.config({paths: { 'plotly': ['https://cdn.plot.ly/plotly-latest.min']},});if(!window.Plotly) {{require(['plotly'],function(plotly) {window.Plotly=plotly;});}}</script>"
      ],
      "text/vnd.plotly.v1+html": [
       "<script>requirejs.config({paths: { 'plotly': ['https://cdn.plot.ly/plotly-latest.min']},});if(!window.Plotly) {{require(['plotly'],function(plotly) {window.Plotly=plotly;});}}</script>"
      ]
     },
     "metadata": {},
     "output_type": "display_data"
    },
    {
     "name": "stdout",
     "output_type": "stream",
     "text": [
      "   Close  High  Low  Open\n",
      "0      4     3    1     2\n",
      "1      5     6    2     3\n",
      "2      6     1    7     7\n",
      "3      0     8    9     5\n"
     ]
    },
    {
     "data": {
      "text/plain": [
       "'file:///home/anasayubi/Documents/courses/habib-ML/finance-project/temp-plot.html'"
      ]
     },
     "execution_count": 50,
     "metadata": {},
     "output_type": "execute_result"
    }
   ],
   "source": [
    "from plotly.offline import init_notebook_mode, plot\n",
    "from plotly.graph_objs import Candlestick as candles\n",
    "\n",
    "import pandas as pd\n",
    "init_notebook_mode(connected=True)\n",
    "\n",
    "d = {\n",
    "    'Open': pd.Series([2, 3, 7, 5]),\n",
    "    'Close': pd.Series([4, 5, 6, 0]),\n",
    "    'High': pd.Series([3, 6, 1, 8]),\n",
    "    'Low': pd.Series([1, 2, 7, 9])\n",
    "}\n",
    "\n",
    "df = pd.DataFrame(d)\n",
    "print(df)\n",
    "\n",
    "candleGraph = candles(\n",
    "    x=df.index,\n",
    "    open=df.Open,\n",
    "    high=df.High,\n",
    "    low=df.Low,\n",
    "    close=df.Close\n",
    ")\n",
    "\n",
    "data = [candleGraph]\n",
    "# Opens a new window with the candles\n",
    "plot(data)"
   ]
  },
  {
   "cell_type": "markdown",
   "metadata": {},
   "source": [
    "## Trying out candle stick visualisation with bitcoin data"
   ]
  },
  {
   "cell_type": "code",
   "execution_count": 63,
   "metadata": {},
   "outputs": [
    {
     "name": "stdout",
     "output_type": "stream",
     "text": [
      "          Timestamp     Open     High      Low    Close  Volume_(BTC)  \\\n",
      "2841367  1496188260  2171.38  2173.00  2171.38  2173.00     41.201953   \n",
      "2841368  1496188320  2173.00  2189.62  2173.00  2189.62     26.256615   \n",
      "2841369  1496188380  2190.99  2190.99  2181.11  2189.41      2.028020   \n",
      "2841370  1496188440  2189.60  2190.96  2189.41  2190.96      1.389392   \n",
      "2841371  1496188500  2183.31  2192.01  2183.26  2183.46      5.639300   \n",
      "2841372  1496188560  2190.49  2190.49  2181.37  2181.37      1.700166   \n",
      "2841373  1496188620  2190.50  2197.52  2186.17  2195.63      6.561029   \n",
      "2841374  1496188680  2195.62  2197.52  2191.52  2191.83     15.662847   \n",
      "2841375  1496188740  2195.82  2216.00  2195.82  2203.51     27.090309   \n",
      "2841376  1496188800  2201.70  2209.81  2196.98  2208.33      9.961835   \n",
      "\n",
      "         Volume_(Currency)  Weighted_Price  \n",
      "2841367       89529.468788     2172.942368  \n",
      "2841368       57180.241163     2177.746088  \n",
      "2841369        4439.608250     2189.134515  \n",
      "2841370        3043.927612     2190.834131  \n",
      "2841371       12321.861988     2184.998491  \n",
      "2841372        3723.784755     2190.247337  \n",
      "2841373       14402.811961     2195.206304  \n",
      "2841374       34361.023647     2193.791712  \n",
      "2841375       59913.492565     2211.620837  \n",
      "2841376       21972.308955     2205.648801  \n"
     ]
    },
    {
     "data": {
      "text/plain": [
       "'file:///home/anasayubi/Documents/courses/habib-ML/finance-project/temp-plot.html'"
      ]
     },
     "execution_count": 63,
     "metadata": {},
     "output_type": "execute_result"
    }
   ],
   "source": [
    "bitcoinData = pd.read_csv('bitcoin-historical-data/bitstampUSD_1-min_data_2012-01-01_to_2017-05-31.csv')\n",
    "bitcoinData.head()\n",
    "length = len(bitcoinData)\n",
    "subData = pd.DataFrame(bitcoinData, index=range(length - 10, length))\n",
    "# Print some of the data\n",
    "print(subData)\n",
    "\n",
    "candleGraph = candles(\n",
    "    x=subData.index,\n",
    "    open=subData.Open,\n",
    "    high=subData.High,\n",
    "    low=subData.Low,\n",
    "    close=subData.Close\n",
    ")\n",
    "\n",
    "data = [candleGraph]\n",
    "# Opens a new window with the candles\n",
    "plot(data)"
   ]
  },
  {
   "cell_type": "code",
   "execution_count": null,
   "metadata": {
    "collapsed": true
   },
   "outputs": [],
   "source": []
  }
 ],
 "metadata": {
  "kernelspec": {
   "display_name": "Python 3",
   "language": "python",
   "name": "python3"
  },
  "language_info": {
   "codemirror_mode": {
    "name": "ipython",
    "version": 3
   },
   "file_extension": ".py",
   "mimetype": "text/x-python",
   "name": "python",
   "nbconvert_exporter": "python",
   "pygments_lexer": "ipython3",
   "version": "3.6.1"
  }
 },
 "nbformat": 4,
 "nbformat_minor": 2
}
